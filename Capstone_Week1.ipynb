{
 "cells": [
  {
   "cell_type": "markdown",
   "metadata": {},
   "source": [
    "<H2>Introduction/ Business Problem<H2>"
   ]
  },
  {
   "cell_type": "markdown",
   "metadata": {},
   "source": [
    "<p/> The current project will focus on examining the parameters one should take into account if he/she would like to open a new restaurant in a given city <p/>\n"
   ]
  },
  {
   "cell_type": "markdown",
   "metadata": {},
   "source": [
    "<H2>Description of the problem and a discussion of the background<H2>"
   ]
  },
  {
   "cell_type": "markdown",
   "metadata": {},
   "source": [
    "<p/> As mentioned above, this week's project targets on examining the parameters that will contribute in making a choice on where to open a Greek restaurant in the city of London. London is the capital of and largest city in England and the United Kingdom, with the largest municipal population in the European Union. According to wikipedia, London is considered to be one of the world's most important global cities and has been termed the world's most powerful, most desirable, most influential, most visited, most expensive, innovative, sustainable, most investment friendly, most popular for work, and the most vegetarian-friendly city in the world. Therefore, there’s a reason London is considered the capital of the food world: with over 4000 restaurants waiting to be explored, living in London isn’t living indoors. One can explore dining in the very popular areas of Soho, Mayfair or Covent Garden or even discover hidden gems all around the city<p/>"
   ]
  },
  {
   "cell_type": "markdown",
   "metadata": {},
   "source": [
    "<H2> A description of the data and how it will be used to solve the problem.<H2>"
   ]
  },
  {
   "cell_type": "markdown",
   "metadata": {},
   "source": [
    "<p/> What parameters, however, should one consider when an ambitious person who wants to open a restaurant - in our case with Greek cuisine - in London? Well,  As already mentioned, London is a very expensive city so the ambitious restaurant owner should make their choice carefully. The first thing to be thought is the estimated overall budget of setting up such a restaurant. Having set the budget, the potential business owner can estimate how much he is able to pay for rent, stuff salaries, equipment and so on. Secondly, the person should think of the restaurant's location. One important point he/she should pay special attention would be the rent amount of each area and how many Greek restaurants there are near by, and what is their quality rating on trip advisor and other reviewing apps. Obviously, if there are quite a few good Greek restaurants within few kilometers distance, maybe that location is not ideal. Finally, once all of the above points have been decided and set up, the person should think of the appropriate marketing techniques to help his/hers business become well known among the surrounding neighborhoods - the locals and the tourists.  Foursquare API Data will be mainly used to analyze the data and take some of our decisions in order to solve the above problems. In addition, some other tools/techniques might be used - depending on the problem's needs to answer any remaining questions. <p/> "
   ]
  }
 ],
 "metadata": {
  "kernelspec": {
   "display_name": "Python",
   "language": "python",
   "name": "conda-env-python-py"
  },
  "language_info": {
   "codemirror_mode": {
    "name": "ipython",
    "version": 3
   },
   "file_extension": ".py",
   "mimetype": "text/x-python",
   "name": "python",
   "nbconvert_exporter": "python",
   "pygments_lexer": "ipython3",
   "version": "3.6.7"
  }
 },
 "nbformat": 4,
 "nbformat_minor": 4
}
